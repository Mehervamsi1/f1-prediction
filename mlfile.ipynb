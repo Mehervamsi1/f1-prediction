{
 "cells": [
  {
   "cell_type": "markdown",
   "id": "18f680d3",
   "metadata": {},
   "source": [
    "# Predicting Podium Results and Points Results in the F1 Data."
   ]
  },
  {
   "cell_type": "code",
   "execution_count": null,
   "id": "6b54c485",
   "metadata": {},
   "outputs": [],
   "source": [
    "# !pip install --quiet --upgrade pip"
   ]
  },
  {
   "cell_type": "code",
   "execution_count": null,
   "id": "da3faa0a",
   "metadata": {},
   "outputs": [],
   "source": [
    "# !pip install pandas scikit-learn matplotlib seaborn xgboost lightgbm --quiet"
   ]
  },
  {
   "cell_type": "code",
   "execution_count": null,
   "id": "c154ee47",
   "metadata": {},
   "outputs": [],
   "source": [
    "# pip install --upgrade --force-reinstall scipy"
   ]
  },
  {
   "cell_type": "code",
   "execution_count": null,
   "id": "860072c3",
   "metadata": {},
   "outputs": [],
   "source": [
    "# pip install --upgrade pandas --quiet"
   ]
  },
  {
   "cell_type": "code",
   "execution_count": null,
   "id": "6bd01ff2",
   "metadata": {},
   "outputs": [],
   "source": [
    "# pip install --upgrade numpy matplotlib seaborn"
   ]
  },
  {
   "cell_type": "code",
   "execution_count": null,
   "id": "8fd65e69",
   "metadata": {},
   "outputs": [],
   "source": [
    "# !pip install category_encoders --quiet"
   ]
  },
  {
   "cell_type": "code",
   "execution_count": null,
   "id": "a7426652",
   "metadata": {},
   "outputs": [],
   "source": [
    "import pandas as pd\n",
    "import matplotlib.pyplot as plt\n",
    "import seaborn as sns\n",
    "import category_encoders as ce"
   ]
  },
  {
   "cell_type": "code",
   "execution_count": null,
   "id": "f6958f95",
   "metadata": {},
   "outputs": [],
   "source": [
    "df= pd.read_csv('F1 Races 2020-2024.csv')"
   ]
  },
  {
   "cell_type": "code",
   "execution_count": null,
   "id": "10ab45e0",
   "metadata": {},
   "outputs": [],
   "source": [
    "df.head()"
   ]
  },
  {
   "cell_type": "code",
   "execution_count": null,
   "id": "e9e44913",
   "metadata": {},
   "outputs": [],
   "source": [
    "df.head(25)"
   ]
  },
  {
   "cell_type": "code",
   "execution_count": null,
   "id": "5038e2f1",
   "metadata": {},
   "outputs": [],
   "source": [
    "df.info()"
   ]
  },
  {
   "cell_type": "code",
   "execution_count": null,
   "id": "4558e4a1",
   "metadata": {},
   "outputs": [],
   "source": [
    "# Set seaborn style\n",
    "sns.set(style=\"whitegrid\")"
   ]
  },
  {
   "cell_type": "code",
   "execution_count": null,
   "id": "5dd2d8b2",
   "metadata": {},
   "outputs": [],
   "source": [
    "# ===============================================\n",
    "# Step 3: Distribution of Target Variables\n",
    "# ===============================================\n",
    "fig, axes = plt.subplots(1, 2, figsize=(12, 5))\n",
    "\n",
    "# Plot Top 3 Finish distribution\n",
    "sns.countplot(x=\"Top 3 Finish\", data=df, ax=axes[0], palette=\"Set2\")\n",
    "axes[0].set_title(\"Distribution of Podium Finishes (Top 3)\")\n",
    "axes[0].set_xlabel(\"Top 3 Finish (0 = No, 1 = Yes)\")\n",
    "axes[0].set_ylabel(\"Count\")\n",
    "\n",
    "# Plot Points distribution\n",
    "sns.histplot(df[\"points\"], bins=30, ax=axes[1], kde=True, color=\"skyblue\")\n",
    "axes[1].set_title(\"Distribution of Race Points\")\n",
    "axes[1].set_xlabel(\"Points\")\n",
    "axes[1].set_ylabel(\"Frequency\")\n",
    "\n",
    "plt.tight_layout()\n",
    "plt.show()\n",
    "\n",
    "# ===============================================\n",
    "# Step 4: Correlation Heatmap\n",
    "# ===============================================\n",
    "plt.figure(figsize=(14, 10))\n",
    "corr = df.corr(numeric_only=True)  # Only numeric columns\n",
    "sns.heatmap(corr, cmap=\"coolwarm\", center=0)\n",
    "plt.title(\"Feature Correlation Heatmap\", fontsize=14)\n",
    "plt.show()\n",
    "\n",
    "# ===============================================\n",
    "# Step 5: Grid Position vs Podium Probability\n",
    "# ===============================================\n",
    "plt.figure(figsize=(8, 6))\n",
    "sns.barplot(x=\"grid\", y=\"Top 3 Finish\", data=df, ci=None, palette=\"Blues_d\")\n",
    "plt.title(\"Podium Probability by Starting Grid Position\")\n",
    "plt.xlabel(\"Starting Grid Position\")\n",
    "plt.ylabel(\"Probability of Podium Finish\")\n",
    "plt.show()\n",
    "\n",
    "# ===============================================\n",
    "# Step 6: Weighted Podium Probability vs Actual Top 3 Finish\n",
    "# ===============================================\n",
    "plt.figure(figsize=(8, 6))\n",
    "sns.boxplot(x=\"Top 3 Finish\", y=\"Weighted_Top_3_Probability\", data=df, palette=\"Set3\")\n",
    "plt.title(\"Weighted Podium Probability vs Actual Top 3 Finish\")\n",
    "plt.xlabel(\"Top 3 Finish (0 = No, 1 = Yes)\")\n",
    "plt.ylabel(\"Weighted Podium Probability\")\n",
    "plt.show()\n"
   ]
  },
  {
   "cell_type": "code",
   "execution_count": null,
   "id": "aff6dac0",
   "metadata": {},
   "outputs": [],
   "source": [
    "plt.figure(figsize=(14, 10))\n",
    "\n",
    "# Compute correlation\n",
    "corr = df.corr(numeric_only=True)\n",
    "\n",
    "# Create heatmap\n",
    "im = plt.imshow(corr, cmap=\"coolwarm\", interpolation=\"nearest\", aspect=\"auto\")\n",
    "plt.colorbar(im)\n",
    "\n",
    "# Add ticks\n",
    "plt.xticks(range(len(corr.columns)), corr.columns, rotation=90)\n",
    "plt.yticks(range(len(corr.columns)), corr.columns)\n",
    "\n",
    "# Title\n",
    "plt.title(\"Feature Correlation Heatmap (Matplotlib)\", fontsize=14)\n",
    "plt.tight_layout()\n",
    "plt.show()"
   ]
  },
  {
   "cell_type": "code",
   "execution_count": null,
   "id": "56760dbc",
   "metadata": {},
   "outputs": [],
   "source": [
    "dfr = df.copy()"
   ]
  },
  {
   "cell_type": "code",
   "execution_count": null,
   "id": "8ae03207",
   "metadata": {},
   "outputs": [],
   "source": [
    "dfr.info()"
   ]
  },
  {
   "cell_type": "code",
   "execution_count": null,
   "id": "413e54ab",
   "metadata": {},
   "outputs": [],
   "source": [
    "dfr.head(10)"
   ]
  },
  {
   "cell_type": "code",
   "execution_count": null,
   "id": "8f8760b2",
   "metadata": {},
   "outputs": [],
   "source": [
    "drop_cols = ['points', 'Top 3 Finish', 'date', 'raceId']\n",
    "dfr.drop(columns=drop_cols, inplace=True)"
   ]
  },
  {
   "cell_type": "code",
   "execution_count": null,
   "id": "15f6c95f",
   "metadata": {},
   "outputs": [],
   "source": [
    "dfr.head(10)"
   ]
  },
  {
   "cell_type": "code",
   "execution_count": null,
   "id": "5312abcd",
   "metadata": {},
   "outputs": [],
   "source": [
    "# Check total null values per column\n",
    "null_counts = df.isnull().sum()\n",
    "\n",
    "print(\"Null values per column:\")\n",
    "print(null_counts)\n",
    "\n",
    "# To see columns that actually have missing values (filter zeroes out)\n",
    "print(\"\\nColumns with missing values:\")\n",
    "print(null_counts[null_counts > 0])"
   ]
  },
  {
   "cell_type": "code",
   "execution_count": null,
   "id": "ba604c21",
   "metadata": {},
   "outputs": [],
   "source": [
    "for col in dfr.columns:\n",
    "    print(col)\n"
   ]
  },
  {
   "cell_type": "code",
   "execution_count": null,
   "id": "54e5ea90",
   "metadata": {},
   "outputs": [],
   "source": []
  },
  {
   "cell_type": "code",
   "execution_count": null,
   "id": "fd04d055",
   "metadata": {},
   "outputs": [],
   "source": [
    "# Initialize target encoder for high-cardinality features\n",
    "target_enc = ce.TargetEncoder(cols=['driverId', 'constructorId'])\n",
    "\n",
    "# Fit target encoder on your training data\n",
    "dfr_encoded = target_enc.fit_transform(dfr, y_reg)"
   ]
  }
 ],
 "metadata": {
  "kernelspec": {
   "display_name": "Python 3",
   "language": "python",
   "name": "python3"
  },
  "language_info": {
   "codemirror_mode": {
    "name": "ipython",
    "version": 3
   },
   "file_extension": ".py",
   "mimetype": "text/x-python",
   "name": "python",
   "nbconvert_exporter": "python",
   "pygments_lexer": "ipython3",
   "version": "3.9.13"
  }
 },
 "nbformat": 4,
 "nbformat_minor": 5
}
