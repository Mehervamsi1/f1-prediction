{
 "cells": [
  {
   "cell_type": "code",
   "execution_count": 1,
   "id": "6b54c485",
   "metadata": {},
   "outputs": [],
   "source": [
    "!pip install --quiet --upgrade pip"
   ]
  },
  {
   "cell_type": "code",
   "execution_count": 2,
   "id": "da3faa0a",
   "metadata": {},
   "outputs": [],
   "source": [
    "!pip install pandas scikit-learn matplotlib seaborn xgboost lightgbm --quiet"
   ]
  },
  {
   "cell_type": "code",
   "execution_count": 5,
   "id": "a7426652",
   "metadata": {},
   "outputs": [],
   "source": [
    "import pandas as pd"
   ]
  },
  {
   "cell_type": "code",
   "execution_count": 6,
   "id": "f6958f95",
   "metadata": {},
   "outputs": [],
   "source": [
    "df= pd.read_csv('F1 Races 2020-2024.csv')"
   ]
  },
  {
   "cell_type": "code",
   "execution_count": 7,
   "id": "10ab45e0",
   "metadata": {},
   "outputs": [
    {
     "data": {
      "application/vnd.microsoft.datawrangler.viewer.v0+json": {
       "columns": [
        {
         "name": "index",
         "rawType": "int64",
         "type": "integer"
        },
        {
         "name": "year",
         "rawType": "int64",
         "type": "integer"
        },
        {
         "name": "round",
         "rawType": "int64",
         "type": "integer"
        },
        {
         "name": "circuitId",
         "rawType": "int64",
         "type": "integer"
        },
        {
         "name": "date",
         "rawType": "object",
         "type": "string"
        },
        {
         "name": "rainy",
         "rawType": "int64",
         "type": "integer"
        },
        {
         "name": "Turns",
         "rawType": "int64",
         "type": "integer"
        },
        {
         "name": "Length",
         "rawType": "float64",
         "type": "float"
        },
        {
         "name": "driverId",
         "rawType": "int64",
         "type": "integer"
        },
        {
         "name": "constructorId",
         "rawType": "int64",
         "type": "integer"
        },
        {
         "name": "grid",
         "rawType": "int64",
         "type": "integer"
        },
        {
         "name": "Driver Top 3 Finish Percentage (Last Year)",
         "rawType": "float64",
         "type": "float"
        },
        {
         "name": "Constructor Top 3 Finish Percentage (Last Year)",
         "rawType": "float64",
         "type": "float"
        },
        {
         "name": "Driver Top 3 Finish Percentage (This Year till last race)",
         "rawType": "float64",
         "type": "float"
        },
        {
         "name": "Constructor Top 3 Finish Percentage (This Year till last race)",
         "rawType": "float64",
         "type": "float"
        },
        {
         "name": "Driver Avg position (Last Year)",
         "rawType": "float64",
         "type": "float"
        },
        {
         "name": "Constructor Avg position (Last Year)",
         "rawType": "float64",
         "type": "float"
        },
        {
         "name": "Driver Average Position (This Year till last race)",
         "rawType": "float64",
         "type": "float"
        },
        {
         "name": "Constructor Average Position (This Year till last race)",
         "rawType": "float64",
         "type": "float"
        },
        {
         "name": "driver_age",
         "rawType": "int64",
         "type": "integer"
        },
        {
         "name": "nationality_encoded",
         "rawType": "int64",
         "type": "integer"
        },
        {
         "name": "wins_cons",
         "rawType": "float64",
         "type": "float"
        },
        {
         "name": "points_cons_champ",
         "rawType": "float64",
         "type": "float"
        },
        {
         "name": "wins",
         "rawType": "float64",
         "type": "float"
        },
        {
         "name": "points_driver_champ",
         "rawType": "float64",
         "type": "float"
        },
        {
         "name": "laps",
         "rawType": "int64",
         "type": "integer"
        },
        {
         "name": "statusId",
         "rawType": "int64",
         "type": "integer"
        },
        {
         "name": "Weighted_Top_3_Probability",
         "rawType": "float64",
         "type": "float"
        },
        {
         "name": "Weighted_Top_3_Prob_Length",
         "rawType": "float64",
         "type": "float"
        },
        {
         "name": "position_previous_race",
         "rawType": "float64",
         "type": "float"
        },
        {
         "name": "nro_cond_escuderia",
         "rawType": "int64",
         "type": "integer"
        },
        {
         "name": "raceId",
         "rawType": "int64",
         "type": "integer"
        },
        {
         "name": "points",
         "rawType": "float64",
         "type": "float"
        },
        {
         "name": "prom_points_10",
         "rawType": "float64",
         "type": "float"
        },
        {
         "name": "Top 3 Finish",
         "rawType": "int64",
         "type": "integer"
        }
       ],
       "ref": "347e4505-e462-4d96-85c9-a25179b258d7",
       "rows": [
        [
         "0",
         "2000",
         "1",
         "1",
         "2000-03-12",
         "0",
         "14",
         "5.278",
         "2",
         "20",
         "15",
         "0.0",
         "0.0",
         "0.0",
         "0.0",
         "0.0",
         "0.0",
         "0.0",
         "0.0",
         "23",
         "15",
         "0.0",
         "0.0",
         "0.0",
         "0.0",
         "56",
         "12",
         "0.087719298245614",
         "0.0909090909090909",
         "8.0",
         "2",
         "158",
         "0.0",
         "9.4",
         "0"
        ],
        [
         "1",
         "2000",
         "1",
         "1",
         "2000-03-12",
         "0",
         "14",
         "5.278",
         "14",
         "1",
         "2",
         "0.0",
         "0.0",
         "0.0",
         "0.0",
         "0.0",
         "0.0",
         "0.0",
         "0.0",
         "29",
         "6",
         "0.0",
         "0.0",
         "0.0",
         "0.0",
         "11",
         "5",
         "0.2083333333333333",
         "0.2222222222222222",
         "20.0",
         "2",
         "158",
         "0.0",
         "47.6",
         "0"
        ],
        [
         "2",
         "2000",
         "1",
         "1",
         "2000-03-12",
         "0",
         "14",
         "5.278",
         "15",
         "17",
         "6",
         "0.0",
         "0.0",
         "0.0",
         "0.0",
         "0.0",
         "0.0",
         "0.0",
         "0.0",
         "26",
         "20",
         "0.0",
         "0.0",
         "0.0",
         "0.0",
         "35",
         "5",
         "0.0483870967741935",
         "0.0833333333333333",
         "20.0",
         "2",
         "158",
         "0.0",
         "8.5",
         "0"
        ],
        [
         "3",
         "2000",
         "1",
         "1",
         "2000-03-12",
         "0",
         "14",
         "5.278",
         "18",
         "3",
         "21",
         "0.0",
         "0.0",
         "0.0",
         "0.0",
         "0.0",
         "0.0",
         "0.0",
         "0.0",
         "20",
         "6",
         "0.0",
         "4.0",
         "0.0",
         "0.0",
         "46",
         "5",
         "0.1604938271604938",
         "0.2352941176470588",
         "20.0",
         "2",
         "158",
         "0.0",
         "1.2",
         "0"
        ],
        [
         "4",
         "2000",
         "1",
         "1",
         "2000-03-12",
         "0",
         "14",
         "5.278",
         "21",
         "22",
         "9",
         "0.0",
         "0.0",
         "0.0",
         "0.0",
         "0.0",
         "0.0",
         "0.0",
         "0.0",
         "27",
         "20",
         "0.0",
         "2.0",
         "0.0",
         "2.0",
         "58",
         "1",
         "0.0769230769230769",
         "0.1",
         "11.0",
         "1",
         "158",
         "2.0",
         "4.5",
         "0"
        ]
       ],
       "shape": {
        "columns": 34,
        "rows": 5
       }
      },
      "text/html": [
       "<div>\n",
       "<style scoped>\n",
       "    .dataframe tbody tr th:only-of-type {\n",
       "        vertical-align: middle;\n",
       "    }\n",
       "\n",
       "    .dataframe tbody tr th {\n",
       "        vertical-align: top;\n",
       "    }\n",
       "\n",
       "    .dataframe thead th {\n",
       "        text-align: right;\n",
       "    }\n",
       "</style>\n",
       "<table border=\"1\" class=\"dataframe\">\n",
       "  <thead>\n",
       "    <tr style=\"text-align: right;\">\n",
       "      <th></th>\n",
       "      <th>year</th>\n",
       "      <th>round</th>\n",
       "      <th>circuitId</th>\n",
       "      <th>date</th>\n",
       "      <th>rainy</th>\n",
       "      <th>Turns</th>\n",
       "      <th>Length</th>\n",
       "      <th>driverId</th>\n",
       "      <th>constructorId</th>\n",
       "      <th>grid</th>\n",
       "      <th>...</th>\n",
       "      <th>laps</th>\n",
       "      <th>statusId</th>\n",
       "      <th>Weighted_Top_3_Probability</th>\n",
       "      <th>Weighted_Top_3_Prob_Length</th>\n",
       "      <th>position_previous_race</th>\n",
       "      <th>nro_cond_escuderia</th>\n",
       "      <th>raceId</th>\n",
       "      <th>points</th>\n",
       "      <th>prom_points_10</th>\n",
       "      <th>Top 3 Finish</th>\n",
       "    </tr>\n",
       "  </thead>\n",
       "  <tbody>\n",
       "    <tr>\n",
       "      <th>0</th>\n",
       "      <td>2000</td>\n",
       "      <td>1</td>\n",
       "      <td>1</td>\n",
       "      <td>2000-03-12</td>\n",
       "      <td>0</td>\n",
       "      <td>14</td>\n",
       "      <td>5.278</td>\n",
       "      <td>2</td>\n",
       "      <td>20</td>\n",
       "      <td>15</td>\n",
       "      <td>...</td>\n",
       "      <td>56</td>\n",
       "      <td>12</td>\n",
       "      <td>0.087719</td>\n",
       "      <td>0.090909</td>\n",
       "      <td>8.0</td>\n",
       "      <td>2</td>\n",
       "      <td>158</td>\n",
       "      <td>0.0</td>\n",
       "      <td>9.4</td>\n",
       "      <td>0</td>\n",
       "    </tr>\n",
       "    <tr>\n",
       "      <th>1</th>\n",
       "      <td>2000</td>\n",
       "      <td>1</td>\n",
       "      <td>1</td>\n",
       "      <td>2000-03-12</td>\n",
       "      <td>0</td>\n",
       "      <td>14</td>\n",
       "      <td>5.278</td>\n",
       "      <td>14</td>\n",
       "      <td>1</td>\n",
       "      <td>2</td>\n",
       "      <td>...</td>\n",
       "      <td>11</td>\n",
       "      <td>5</td>\n",
       "      <td>0.208333</td>\n",
       "      <td>0.222222</td>\n",
       "      <td>20.0</td>\n",
       "      <td>2</td>\n",
       "      <td>158</td>\n",
       "      <td>0.0</td>\n",
       "      <td>47.6</td>\n",
       "      <td>0</td>\n",
       "    </tr>\n",
       "    <tr>\n",
       "      <th>2</th>\n",
       "      <td>2000</td>\n",
       "      <td>1</td>\n",
       "      <td>1</td>\n",
       "      <td>2000-03-12</td>\n",
       "      <td>0</td>\n",
       "      <td>14</td>\n",
       "      <td>5.278</td>\n",
       "      <td>15</td>\n",
       "      <td>17</td>\n",
       "      <td>6</td>\n",
       "      <td>...</td>\n",
       "      <td>35</td>\n",
       "      <td>5</td>\n",
       "      <td>0.048387</td>\n",
       "      <td>0.083333</td>\n",
       "      <td>20.0</td>\n",
       "      <td>2</td>\n",
       "      <td>158</td>\n",
       "      <td>0.0</td>\n",
       "      <td>8.5</td>\n",
       "      <td>0</td>\n",
       "    </tr>\n",
       "    <tr>\n",
       "      <th>3</th>\n",
       "      <td>2000</td>\n",
       "      <td>1</td>\n",
       "      <td>1</td>\n",
       "      <td>2000-03-12</td>\n",
       "      <td>0</td>\n",
       "      <td>14</td>\n",
       "      <td>5.278</td>\n",
       "      <td>18</td>\n",
       "      <td>3</td>\n",
       "      <td>21</td>\n",
       "      <td>...</td>\n",
       "      <td>46</td>\n",
       "      <td>5</td>\n",
       "      <td>0.160494</td>\n",
       "      <td>0.235294</td>\n",
       "      <td>20.0</td>\n",
       "      <td>2</td>\n",
       "      <td>158</td>\n",
       "      <td>0.0</td>\n",
       "      <td>1.2</td>\n",
       "      <td>0</td>\n",
       "    </tr>\n",
       "    <tr>\n",
       "      <th>4</th>\n",
       "      <td>2000</td>\n",
       "      <td>1</td>\n",
       "      <td>1</td>\n",
       "      <td>2000-03-12</td>\n",
       "      <td>0</td>\n",
       "      <td>14</td>\n",
       "      <td>5.278</td>\n",
       "      <td>21</td>\n",
       "      <td>22</td>\n",
       "      <td>9</td>\n",
       "      <td>...</td>\n",
       "      <td>58</td>\n",
       "      <td>1</td>\n",
       "      <td>0.076923</td>\n",
       "      <td>0.100000</td>\n",
       "      <td>11.0</td>\n",
       "      <td>1</td>\n",
       "      <td>158</td>\n",
       "      <td>2.0</td>\n",
       "      <td>4.5</td>\n",
       "      <td>0</td>\n",
       "    </tr>\n",
       "  </tbody>\n",
       "</table>\n",
       "<p>5 rows × 34 columns</p>\n",
       "</div>"
      ],
      "text/plain": [
       "   year  round  circuitId        date  rainy  Turns  Length  driverId  \\\n",
       "0  2000      1          1  2000-03-12      0     14   5.278         2   \n",
       "1  2000      1          1  2000-03-12      0     14   5.278        14   \n",
       "2  2000      1          1  2000-03-12      0     14   5.278        15   \n",
       "3  2000      1          1  2000-03-12      0     14   5.278        18   \n",
       "4  2000      1          1  2000-03-12      0     14   5.278        21   \n",
       "\n",
       "   constructorId  grid  ...  laps  statusId  Weighted_Top_3_Probability  \\\n",
       "0             20    15  ...    56        12                    0.087719   \n",
       "1              1     2  ...    11         5                    0.208333   \n",
       "2             17     6  ...    35         5                    0.048387   \n",
       "3              3    21  ...    46         5                    0.160494   \n",
       "4             22     9  ...    58         1                    0.076923   \n",
       "\n",
       "   Weighted_Top_3_Prob_Length  position_previous_race  nro_cond_escuderia  \\\n",
       "0                    0.090909                     8.0                   2   \n",
       "1                    0.222222                    20.0                   2   \n",
       "2                    0.083333                    20.0                   2   \n",
       "3                    0.235294                    20.0                   2   \n",
       "4                    0.100000                    11.0                   1   \n",
       "\n",
       "   raceId  points  prom_points_10  Top 3 Finish  \n",
       "0     158     0.0             9.4             0  \n",
       "1     158     0.0            47.6             0  \n",
       "2     158     0.0             8.5             0  \n",
       "3     158     0.0             1.2             0  \n",
       "4     158     2.0             4.5             0  \n",
       "\n",
       "[5 rows x 34 columns]"
      ]
     },
     "execution_count": 7,
     "metadata": {},
     "output_type": "execute_result"
    }
   ],
   "source": [
    "df.head()"
   ]
  },
  {
   "cell_type": "code",
   "execution_count": null,
   "id": "5038e2f1",
   "metadata": {},
   "outputs": [],
   "source": []
  }
 ],
 "metadata": {
  "kernelspec": {
   "display_name": "Python 3",
   "language": "python",
   "name": "python3"
  },
  "language_info": {
   "codemirror_mode": {
    "name": "ipython",
    "version": 3
   },
   "file_extension": ".py",
   "mimetype": "text/x-python",
   "name": "python",
   "nbconvert_exporter": "python",
   "pygments_lexer": "ipython3",
   "version": "3.9.13"
  }
 },
 "nbformat": 4,
 "nbformat_minor": 5
}
